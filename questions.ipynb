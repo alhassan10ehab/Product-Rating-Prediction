{
  "nbformat": 4,
  "nbformat_minor": 0,
  "metadata": {
    "colab": {
      "provenance": []
    },
    "kernelspec": {
      "name": "python3",
      "display_name": "Python 3"
    },
    "language_info": {
      "name": "python"
    }
  },
  "cells": [
    {
      "cell_type": "markdown",
      "source": [
        "#Problem Formulation"
      ],
      "metadata": {
        "id": "TGMMlxsigIju"
      }
    },
    {
      "cell_type": "markdown",
      "source": [
        "**What is the input? What is the output?**\n",
        "our problem is a prediction problem that requires pridict of the product ratings, based on some features of the products. \n",
        "The input is the features of the products such as merchant_rating, product_colo, price, and Others \n",
        "The output is the product rating, which has five classes from 1 to 5. our target is to predict the correct rate based on understanding of features\n",
        "\n",
        "\n",
        "**What data mining function is required?**\n",
        "extract the important features that help us to predict the correct rate for the product (classification problem)\n",
        "\n",
        "\n",
        "**What could be the challenges?**\n",
        "The challenge may be dealing with noisy data, null values, and irrelevant or unnecessary features.\n",
        "in addition, the features included in the dataset may not be sufficient to accurately predict the product rating, which requires feature engineering, tune the hyperparameters to get the best metrics on each model.\n",
        "\n",
        "\n",
        "**What is the impact?**\n",
        "The impact of correctly predicting the product rating is that it can help in understanding businesses' customers to meet their desires\n",
        "\n",
        "\n",
        "**What is an ideal solution?**\n",
        "the idea in general is implement 3 machine learning models (decision tree, support vector machine, and naive bayes) to get the correct prediction for product rating based on given features. after finishing the preprocessing phase and models implementation the best model was decision tree"
      ],
      "metadata": {
        "id": "3EO8Uw7LgcYZ"
      }
    },
    {
      "cell_type": "markdown",
      "source": [
        "# Why Data Mining is a misnomer? What is another preferred name?"
      ],
      "metadata": {
        "id": "lNwCiClMDN-3"
      }
    },
    {
      "cell_type": "markdown",
      "source": [
        "Data Mining is considered a misnomer because it refers to that the process is solely about extracting useful data from a source of data But actually, it consists of many steps one of them is extracting useful data. Data mining involves various steps such as data integration, data transformation, data cleaning, and data analysis to extract useful insights and knowledge from the data.\n",
        "\n",
        "Another preferred name for data mining is Knowledge Discovery in Databases (KDD) because it explains accurately the process of extracting insights and useful knowledge from data. KDD enshurs the importance of finding patterns, and relationships, in the data that can be useful for decision maker and problem solver."
      ],
      "metadata": {
        "id": "IK2HvhFdDi4c"
      }
    },
    {
      "cell_type": "markdown",
      "source": [
        "#What is the general knowledge discovery process? What is the difference between a data engineer and data scientist/AI engineer?"
      ],
      "metadata": {
        "id": "dA99BIMuNNl6"
      }
    },
    {
      "cell_type": "markdown",
      "source": [
        "1- Data Selection: Determining which data to use for analysis.\n",
        "\n",
        "2- Data Cleaning: Identifying and correcting errors or inconsistencies in the data.\n",
        "\n",
        "3- Data Integration: Combining data from multiple sources into a single dataset.\n",
        "\n",
        "4- Data Transformation: Converting the data into a suitable format for analysis.\n",
        "\n",
        "5- Data Mining: Applying algorithms to identify patterns, relationships, and trends in the data.\n",
        "\n",
        "6- Pattern Evaluation: Assessing the patterns identified in step 5 to determine their usefulness and validity.\n",
        "\n",
        "7- Knowledge Representation: Presenting the patterns and insights in a useful and understandable format.\n",
        "\n",
        "8- Knowledge Utilization: Using the knowledge gained from the previous steps to make decisions or take actions.\n",
        "\n",
        "\n",
        "A data engineer is someone who develops, builds, tests, and maintains architectures, such as databases and large-scale processing systems. he works on emphasizing the reliability, efficiency, and scalability of data pipelines and databases,and focused on ensuring that data is collected. on the other hand,a data scientist or AI engineer is someone who cleans, massages and organizes (big) data. In addition, uses statistical and machine-learning techniques to analyze data and build predictive models,and focused on extracting insights and knowledge from the data"
      ],
      "metadata": {
        "id": "m_bzyEU_NjLY"
      }
    },
    {
      "cell_type": "markdown",
      "source": [
        "#In data mining, what is the difference between prediction and categorization?"
      ],
      "metadata": {
        "id": "2DgRoAY_bZel"
      }
    },
    {
      "cell_type": "markdown",
      "source": [
        "prediction is a type of data mining task that involves quantitative predictions using historical features and data to make predictions about future events, outcomes, or insights. For example, predict the product will be sold or not, or whether a patient will die or recover in the future.\n",
        "\n",
        "On the other hand, categorization involves grouping data into predefined categories, groups or classes based on certain criteria. For example, classifying customers based on their preferences or interests, or classifying email messages as spam or not spam"
      ],
      "metadata": {
        "id": "-wPr7WiTbgPW"
      }
    },
    {
      "cell_type": "markdown",
      "source": [
        "#Why data science/machine learning is a bad idea in the context of information security?"
      ],
      "metadata": {
        "id": "xIU1DON3ec2j"
      }
    },
    {
      "cell_type": "markdown",
      "source": [
        "Data science and machine learning are not a bad ideas in general. it can be powerful tools for decision making and problem solving. But have some risks and challenges involved in their implementation such as security because the data,may contain sensitive information like medical data or medical data.\n",
        "\n",
        "Another challenge is biase and the resulting model will be biased and may produce inaccurate or unfair results this problem occures when thwe have unbalaced classes or the unnormalized well. This can be especially problematic in the context.\n",
        "\n"
      ],
      "metadata": {
        "id": "-XY18wt3efu9"
      }
    },
    {
      "cell_type": "markdown",
      "source": [
        "#What is CIA principle and how can we use it to access the security/privacy aspect of the AI system/pipelines?"
      ],
      "metadata": {
        "id": "5SFZ7I9PnYEG"
      }
    },
    {
      "cell_type": "markdown",
      "source": [
        "CIA stands for Confidentiality, Integrity, and Availability. Which is a framework for evaluating the security and privacy aspects of information systems. there are three main goals.\n",
        "\n",
        "1- Confidentiality refers to the save sensitive information from unauthorized access or disclosure. In the context of AI systems and pipelines, confidentiality can be achieved through measures such as access controls, data encryption, and data masking.\n",
        "\n",
        "2- Integrity refers to the accuracy and consistency of data and systems. In the context of AI systems and pipelines, integrity can be ensured through measures such as data validation, error checking, and version control.\n",
        "\n",
        "3- Availability refers to the availability and accessibility of data and systems. In the context of AI systems and pipelines, availability can be ensured through measures such as backup and recovery procedures, redundancy, and load balancing.\n",
        "\n",
        "Using CIA enables us to estimate the security and privacy aspects of AI systems and pipelines by evaluating (confidentiality, availability, availability) how well they protect sensitive information, availability and accessibility of data and systems, maintain data accuracy and consistency. "
      ],
      "metadata": {
        "id": "89CotkoUnc4Z"
      }
    }
  ]
}